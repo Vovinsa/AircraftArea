{
 "cells": [
  {
   "cell_type": "markdown",
   "metadata": {},
   "source": [
    "# **Overview**"
   ]
  },
  {
   "cell_type": "markdown",
   "metadata": {},
   "source": [
    "This system is equipped with a stationary camera strategically positioned to observe the designated area where aircraft are prepared for departure. The primary objective is to ensure the absence of any vehicles within the stand boundary before the aircraft arrives. In the event of detecting any vehicles within this zone, the system is designed to promptly notify the ground handler for immediate action"
   ]
  },
  {
   "cell_type": "markdown",
   "metadata": {},
   "source": [
    "# Libraries"
   ]
  },
  {
   "cell_type": "code",
   "execution_count": 1,
   "metadata": {},
   "outputs": [],
   "source": [
    "import cv2\n",
    "import numpy as np\n",
    "from sklearn.metrics import recall_score, precision_score\n",
    "\n",
    "from ultralytics import YOLO\n",
    "\n",
    "import json\n",
    "import os\n",
    "\n",
    "from src.predictor import Predictor\n",
    "from src.utils import convert_intervals_to_list"
   ]
  },
  {
   "cell_type": "markdown",
   "metadata": {},
   "source": [
    "# **Data**"
   ]
  },
  {
   "cell_type": "code",
   "execution_count": 2,
   "metadata": {
    "pycharm": {
     "name": "#%%\n"
    }
   },
   "outputs": [],
   "source": [
    "with open('data/polygons.json') as f:\n",
    "    polygons = json.load(f)"
   ]
  },
  {
   "cell_type": "code",
   "execution_count": 3,
   "metadata": {
    "pycharm": {
     "name": "#%%\n"
    }
   },
   "outputs": [],
   "source": [
    "with open('data/time_intervals.json') as f:\n",
    "    time_intervals = json.load(f)"
   ]
  },
  {
   "cell_type": "code",
   "execution_count": 4,
   "metadata": {
    "pycharm": {
     "name": "#%%\n"
    }
   },
   "outputs": [
    {
     "data": {
      "text/plain": [
       "{'video_0.mp4': [[536, 573],\n",
       "  [873, 562],\n",
       "  [824, 422],\n",
       "  [933, 420],\n",
       "  [877, 303],\n",
       "  [404, 318],\n",
       "  [401, 437],\n",
       "  [542, 437],\n",
       "  [542, 438]],\n",
       " 'video_1.mp4': [[536, 573],\n",
       "  [873, 562],\n",
       "  [824, 422],\n",
       "  [933, 420],\n",
       "  [877, 303],\n",
       "  [404, 318],\n",
       "  [401, 437],\n",
       "  [542, 437],\n",
       "  [542, 438]],\n",
       " 'video_2.mp4': [[488, 701],\n",
       "  [915, 673],\n",
       "  [700, 429],\n",
       "  [868, 417],\n",
       "  [799, 301],\n",
       "  [112, 321],\n",
       "  [116, 466],\n",
       "  [439, 446]],\n",
       " 'video_3.mp4': [[256, 718],\n",
       "  [370, 509],\n",
       "  [0, 461],\n",
       "  [312, 212],\n",
       "  [1069, 203],\n",
       "  [1279, 297],\n",
       "  [1277, 718]],\n",
       " 'video_4.mp4': [[256, 718],\n",
       "  [370, 509],\n",
       "  [0, 461],\n",
       "  [312, 212],\n",
       "  [1069, 203],\n",
       "  [1279, 297],\n",
       "  [1277, 718]],\n",
       " 'video_5.mp4': [[515, 482],\n",
       "  [282, 486],\n",
       "  [321, 444],\n",
       "  [240, 427],\n",
       "  [363, 371],\n",
       "  [715, 367],\n",
       "  [896, 406],\n",
       "  [869, 419],\n",
       "  [948, 442],\n",
       "  [796, 460],\n",
       "  [1115, 597],\n",
       "  [538, 595]],\n",
       " 'video_6.mp4': [[1181, 698],\n",
       "  [0, 560],\n",
       "  [0, 377],\n",
       "  [868, 366],\n",
       "  [1279, 430],\n",
       "  [1279, 594]],\n",
       " 'video_7.mp4': [[604, 718],\n",
       "  [0, 552],\n",
       "  [0, 461],\n",
       "  [132, 400],\n",
       "  [837, 384],\n",
       "  [1160, 502],\n",
       "  [937, 719]],\n",
       " 'video_8.mp4': [[604, 718],\n",
       "  [0, 552],\n",
       "  [0, 461],\n",
       "  [132, 400],\n",
       "  [837, 384],\n",
       "  [1160, 502],\n",
       "  [937, 719]],\n",
       " 'video_9.mp4': [[718, 514],\n",
       "  [245, 458],\n",
       "  [336, 431],\n",
       "  [416, 407],\n",
       "  [956, 418],\n",
       "  [1079, 452]],\n",
       " 'video_10.mp4': [[286, 158],\n",
       "  [987, 167],\n",
       "  [1255, 367],\n",
       "  [1040, 489],\n",
       "  [1199, 719],\n",
       "  [1, 717],\n",
       "  [4, 364]],\n",
       " 'video_11.mp4': [[286, 158],\n",
       "  [987, 167],\n",
       "  [1255, 367],\n",
       "  [1040, 489],\n",
       "  [1199, 719],\n",
       "  [1, 717],\n",
       "  [4, 364]],\n",
       " 'video_13.mp4': [[397, 576],\n",
       "  [519, 468],\n",
       "  [342, 446],\n",
       "  [499, 395],\n",
       "  [766, 404],\n",
       "  [838, 452],\n",
       "  [614, 516],\n",
       "  [584, 601]],\n",
       " 'video_14.mp4': [[402, 339],\n",
       "  [672, 352],\n",
       "  [844, 395],\n",
       "  [827, 413],\n",
       "  [900, 437],\n",
       "  [577, 445],\n",
       "  [543, 410],\n",
       "  [359, 371]],\n",
       " 'video_15.mp4': [[135, 284],\n",
       "  [1195, 283],\n",
       "  [1278, 319],\n",
       "  [1278, 627],\n",
       "  [1233, 660],\n",
       "  [1278, 717],\n",
       "  [185, 717],\n",
       "  [0, 596],\n",
       "  [2, 346]],\n",
       " 'video_16.mp4': [[255, 714],\n",
       "  [367, 509],\n",
       "  [4, 464],\n",
       "  [4, 391],\n",
       "  [325, 208],\n",
       "  [1068, 203],\n",
       "  [1279, 297],\n",
       "  [1279, 719]],\n",
       " 'video_17.mp4': [[255, 714],\n",
       "  [367, 509],\n",
       "  [4, 464],\n",
       "  [4, 391],\n",
       "  [325, 208],\n",
       "  [1068, 203],\n",
       "  [1279, 297],\n",
       "  [1279, 719]],\n",
       " 'video_18.mp4': [[280, 715],\n",
       "  [280, 670],\n",
       "  [4, 675],\n",
       "  [179, 454],\n",
       "  [827, 429],\n",
       "  [1100, 531],\n",
       "  [1040, 567],\n",
       "  [1276, 650],\n",
       "  [1278, 718]],\n",
       " 'video_19.mp4': [[264, 537],\n",
       "  [389, 435],\n",
       "  [273, 395],\n",
       "  [445, 319],\n",
       "  [905, 322],\n",
       "  [1073, 406],\n",
       "  [958, 444],\n",
       "  [1098, 555]]}"
      ]
     },
     "execution_count": 4,
     "metadata": {},
     "output_type": "execute_result"
    }
   ],
   "source": [
    "polygons"
   ]
  },
  {
   "cell_type": "code",
   "execution_count": 5,
   "metadata": {
    "pycharm": {
     "name": "#%%\n"
    }
   },
   "outputs": [
    {
     "data": {
      "text/plain": [
       "{'video_0.mp4': [],\n",
       " 'video_1.mp4': [[4, 12]],\n",
       " 'video_2.mp4': [[40, 43], [57, 60]],\n",
       " 'video_3.mp4': [[43, 50]],\n",
       " 'video_4.mp4': [[19, 52]],\n",
       " 'video_5.mp4': [[14, 19], [34, 38], [73, 95]],\n",
       " 'video_6.mp4': [[2, 109], [123, 129]],\n",
       " 'video_7.mp4': [[0, 128]],\n",
       " 'video_8.mp4': [],\n",
       " 'video_9.mp4': [],\n",
       " 'video_10.mp4': [[0, 2]],\n",
       " 'video_11.mp4': [[0, 21]],\n",
       " 'video_13.mp4': [[29, 78], [134, 158]],\n",
       " 'video_14.mp4': [[24, 24], [37, 37], [63, 64]],\n",
       " 'video_15.mp4': [[10, 29]],\n",
       " 'video_16.mp4': [[8, 23]],\n",
       " 'video_17.mp4': [[43, 50]],\n",
       " 'video_18.mp4': [[0, 87]],\n",
       " 'video_19.mp4': [[6, 8], [36, 58], [147, 177]]}"
      ]
     },
     "execution_count": 5,
     "metadata": {},
     "output_type": "execute_result"
    }
   ],
   "source": [
    "time_intervals"
   ]
  },
  {
   "cell_type": "markdown",
   "metadata": {
    "pycharm": {
     "name": "#%%\n"
    }
   },
   "source": [
    "# **Metrics**"
   ]
  },
  {
   "cell_type": "markdown",
   "metadata": {},
   "source": [
    "Precision and recall are commonly used metrics in binary classification tasks, and they are particularly relevant for evaluating the performance of a system designed to monitor and notify the presence of vehicles on the aircraft stand. Let's delve into the reasons for choosing precision and recall and how they align with the task:\n",
    "\n",
    "1. **Precision:**\n",
    "   - Precision is the ratio of true positive predictions to the total number of positive predictions (true positives + false positives).\n",
    "   - In the context of the aircraft stand monitoring system, precision is crucial because it measures the accuracy of the system in identifying and alerting about vehicles on the stand. A high precision value indicates that when the system notifies the ground handler, it is likely to be correct and that there are indeed vehicles present.\n",
    "\n",
    "2. **Recall:**\n",
    "   - Recall, also known as sensitivity or true positive rate, is the ratio of true positive predictions to the total number of actual positive instances (true positives + false negatives).\n",
    "   - Recall is significant in this task as it gauges the system's ability to capture and identify all instances of vehicles on the stand. A high recall value implies that the system is effective in minimizing false negatives, ensuring that it reliably detects and notifies the ground handler whenever a vehicle is present.\n",
    "\n",
    "In the context of the aircraft stand monitoring system:\n",
    "\n",
    "- **False Positives (FP):** Predicting a vehicle is present when it is not.\n",
    "- **False Negatives (FN):** Failing to predict a vehicle that is present.\n",
    "\n",
    "Here's how precision and recall relate to the task:\n",
    "\n",
    "- **High Precision:** Indicates a low rate of false positives. The ground handler can trust the system's alerts, as they are likely accurate.\n",
    "  \n",
    "- **High Recall:** Signifies a low rate of false negatives. The system consistently detects vehicles on the stand, reducing the risk of missing any instances.\n",
    "\n",
    "Balancing precision and recall is often essential, as there is typically a trade-off between the two. Depending on the system's requirements and priorities, one may need to adjust the model or algorithm parameters to achieve the desired balance between minimizing false positives and false negatives."
   ]
  },
  {
   "cell_type": "markdown",
   "metadata": {},
   "source": [
    "# **Approach**"
   ]
  },
  {
   "cell_type": "code",
   "execution_count": 15,
   "metadata": {},
   "outputs": [
    {
     "name": "stdout",
     "output_type": "stream",
     "text": [
      "Downloading https://github.com/ultralytics/assets/releases/download/v0.0.0/yolov8s.pt to 'models/yolov8s.pt'...\n"
     ]
    },
    {
     "name": "stderr",
     "output_type": "stream",
     "text": [
      "100%|█████████████████████████████████████████████████████████████| 21.5M/21.5M [00:01<00:00, 15.0MB/s]\n"
     ]
    }
   ],
   "source": [
    "model = YOLO('models/yolov8s.pt')"
   ]
  },
  {
   "cell_type": "code",
   "execution_count": 11,
   "metadata": {},
   "outputs": [],
   "source": [
    "predictor = Predictor(model=model)"
   ]
  },
  {
   "cell_type": "code",
   "execution_count": 12,
   "metadata": {},
   "outputs": [],
   "source": [
    "metrics = {}"
   ]
  },
  {
   "cell_type": "code",
   "execution_count": null,
   "metadata": {},
   "outputs": [],
   "source": [
    "for video_name in os.listdir('data/videos/')[1:]:\n",
    "    print(video_name)\n",
    "    prediction, predicted_intervals = predictor.predict_vehicle_entity(f'data/videos/{video_name}', polygons[video_name])\n",
    "\n",
    "    target_intervals = time_intervals[video_name]\n",
    "    target = convert_intervals_to_list(target_intervals, len(prediction))\n",
    "\n",
    "    recall = recall_score(target, prediction, zero_division=1)\n",
    "    precision = precision_score(target, prediction, zero_devision=1)\n",
    "\n",
    "    metric = {'precision': precision, 'recall': recall}\n",
    "    metrics[video_name] = metric"
   ]
  },
  {
   "cell_type": "markdown",
   "metadata": {},
   "source": [
    "Below are the evaluation metrics for the aircraft stand monitoring system applied to different video files. The metrics include precision and recall values for each video, providing insights into the system's performance in identifying and notifying the presence of vehicles on the aircraft stand\n",
    "\n",
    "- **video_11.mp4**\n",
    "Precision: 1.0\n",
    "Recall: 1.0\n",
    "- **video_13.mp4**\n",
    "Precision: 0.4237\n",
    "Recall: 1.0\n",
    "- **video_16.mp4**\n",
    "Precision: 0.5333\n",
    "Recall: 1.0\n",
    "- **video_17.mp4**\n",
    "Precision: 0.1569\n",
    "Recall: 1.0\n",
    "- **video_8.mp4**\n",
    "Precision: 0.0\n",
    "Recall: 0.0\n",
    "- **video_15.mp4**\n",
    "Precision: 1.0\n",
    "Recall: 0.9\n",
    "- **video_14.mp4**\n",
    "Precision: 0.0615\n",
    "Recall: 1.0\n",
    "- **video_9.mp4**\n",
    "Precision: 0.0\n",
    "Recall: 0.0\n",
    "- **video_4.mp4**\n",
    "Precision: 0.5152\n",
    "Recall: 1.0\n",
    "- **video_19.mp4**\n",
    "Precision: 0.3709\n",
    "Recall: 0.9825\n",
    "- **video_18.mp4**\n",
    "Precision: 1.0\n",
    "Recall: 1.0\n",
    "- **video_5.mp4**\n",
    "Precision: 0.2378\n",
    "Recall: 1.0\n",
    "- **video_7.mp4**\n",
    "Precision: 1.0\n",
    "Recall: 0.7597\n",
    "- **video_6.mp4**\n",
    "Precision: 0.8906\n",
    "Recall: 0.9913\n",
    "- **video_2.mp4**\n",
    "Precision: 0.8571\n",
    "Recall: 0.75\n",
    "- **video_3.mp4**\n",
    "Precision: 0.1455\n",
    "Recall: 1.0\n",
    "- **video_1.mp4**\n",
    "Precision: 1.0\n",
    "Recall: 0.3333\n",
    "- **video_0.mp4**\n",
    "Precision: 0.0\n",
    "Recall: 0.0\n",
    "\n",
    "These metrics offer a detailed assessment of the system's ability to accurately identify the presence of vehicles on the stand. While the results indicate notable performance in certain cases, it's important to note that due to resource limitations, model improvements, such as employing a larger model, are currently unfeasible. Ongoing efforts will focus on optimizing within the existing resource constraints for enhanced precision and recall across all scenarios"
   ]
  },
  {
   "cell_type": "code",
   "execution_count": 14,
   "metadata": {
    "pycharm": {
     "name": "#%%\n"
    }
   },
   "outputs": [
    {
     "data": {
      "text/plain": [
       "{'video_11.mp4': {'precision': 1.0, 'recall': 1.0},\n",
       " 'video_13.mp4': {'precision': 0.423728813559322, 'recall': 1.0},\n",
       " 'video_16.mp4': {'precision': 0.5333333333333333, 'recall': 1.0},\n",
       " 'video_17.mp4': {'precision': 0.1568627450980392, 'recall': 1.0},\n",
       " 'video_8.mp4': {'precision': 0.0, 'recall': 0.0},\n",
       " 'video_15.mp4': {'precision': 1.0, 'recall': 0.9},\n",
       " 'video_14.mp4': {'precision': 0.06153846153846154, 'recall': 1.0},\n",
       " 'video_9.mp4': {'precision': 0.0, 'recall': 0.0},\n",
       " 'video_4.mp4': {'precision': 0.5151515151515151, 'recall': 1.0},\n",
       " 'video_19.mp4': {'precision': 0.3708609271523179,\n",
       "  'recall': 0.9824561403508771},\n",
       " 'video_18.mp4': {'precision': 1.0, 'recall': 1.0},\n",
       " 'video_5.mp4': {'precision': 0.23776223776223776, 'recall': 1.0},\n",
       " 'video_7.mp4': {'precision': 1.0, 'recall': 0.7596899224806202},\n",
       " 'video_6.mp4': {'precision': 0.890625, 'recall': 0.991304347826087},\n",
       " 'video_2.mp4': {'precision': 0.8571428571428571, 'recall': 0.75},\n",
       " 'video_3.mp4': {'precision': 0.14545454545454545, 'recall': 1.0},\n",
       " 'video_1.mp4': {'precision': 1.0, 'recall': 0.3333333333333333},\n",
       " 'video_0.mp4': {'precision': 0.0, 'recall': 0.0}}"
      ]
     },
     "execution_count": 14,
     "metadata": {},
     "output_type": "execute_result"
    }
   ],
   "source": [
    "metrics"
   ]
  },
  {
   "cell_type": "code",
   "execution_count": null,
   "metadata": {
    "pycharm": {
     "name": "#%%\n"
    }
   },
   "outputs": [],
   "source": []
  }
 ],
 "metadata": {
  "kernelspec": {
   "display_name": "Python 3 (ipykernel)",
   "language": "python",
   "name": "python3"
  },
  "language_info": {
   "codemirror_mode": {
    "name": "ipython",
    "version": 3
   },
   "file_extension": ".py",
   "mimetype": "text/x-python",
   "name": "python",
   "nbconvert_exporter": "python",
   "pygments_lexer": "ipython3",
   "version": "3.10.13"
  }
 },
 "nbformat": 4,
 "nbformat_minor": 4
}